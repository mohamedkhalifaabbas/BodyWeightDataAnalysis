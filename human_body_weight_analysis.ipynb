{
 "cells": [
  {
   "cell_type": "markdown",
   "metadata": {},
   "source": [
    "### Import Libraries"
   ]
  },
  {
   "cell_type": "code",
   "execution_count": 102,
   "metadata": {},
   "outputs": [],
   "source": [
    "import pandas as pd\n",
    "import numpy as np\n",
    "import requests\n",
    "from bs4 import BeautifulSoup\n",
    "import matplotlib.pyplot as plt\n",
    "import seaborn as sns"
   ]
  },
  {
   "cell_type": "markdown",
   "metadata": {},
   "source": [
    "# Data Gathering"
   ]
  },
  {
   "cell_type": "markdown",
   "metadata": {},
   "source": [
    "### Make Request to wikipedia"
   ]
  },
  {
   "cell_type": "code",
   "execution_count": 2,
   "metadata": {},
   "outputs": [],
   "source": [
    "url = \"https://en.wikipedia.org/wiki/Human_body_weight\""
   ]
  },
  {
   "cell_type": "code",
   "execution_count": 3,
   "metadata": {},
   "outputs": [
    {
     "data": {
      "text/plain": [
       "<Response [200]>"
      ]
     },
     "execution_count": 3,
     "metadata": {},
     "output_type": "execute_result"
    }
   ],
   "source": [
    "response = requests.get(url=url , headers={'User-Agent' : 'Mozilla/5.0 (Windows NT 10.0; Win64; x64) AppleWebKit/537.36 (KHTML, like Gecko) Chrome/131.0.0.0 Safari/537.36'})\n",
    "response"
   ]
  },
  {
   "cell_type": "code",
   "execution_count": null,
   "metadata": {},
   "outputs": [],
   "source": [
    "response.text"
   ]
  },
  {
   "cell_type": "markdown",
   "metadata": {},
   "source": [
    "### Make response at Html code using BeautifulSoup"
   ]
  },
  {
   "cell_type": "code",
   "execution_count": null,
   "metadata": {},
   "outputs": [],
   "source": [
    "html = BeautifulSoup(response.text , 'html.parser')\n",
    "html"
   ]
  },
  {
   "cell_type": "markdown",
   "metadata": {},
   "source": [
    "### Get tables wikitable "
   ]
  },
  {
   "cell_type": "code",
   "execution_count": null,
   "metadata": {},
   "outputs": [],
   "source": [
    "tables = html.find_all('table' , {'class' : 'wikitable'})\n",
    "tables"
   ]
  },
  {
   "cell_type": "markdown",
   "metadata": {},
   "source": [
    "### Get Table has Average weight around the world by country"
   ]
  },
  {
   "cell_type": "code",
   "execution_count": null,
   "metadata": {},
   "outputs": [],
   "source": [
    "country_table = tables[1]\n",
    "country_table"
   ]
  },
  {
   "cell_type": "markdown",
   "metadata": {},
   "source": [
    "### convert table to dataframe"
   ]
  },
  {
   "cell_type": "code",
   "execution_count": 20,
   "metadata": {},
   "outputs": [
    {
     "name": "stderr",
     "output_type": "stream",
     "text": [
      "C:\\Users\\elmnshawy\\AppData\\Local\\Temp\\ipykernel_10440\\3118881037.py:1: FutureWarning: Passing literal html to 'read_html' is deprecated and will be removed in a future version. To read from a literal string, wrap it in a 'StringIO' object.\n",
      "  df = pd.read_html(str(country_table))[0]\n"
     ]
    }
   ],
   "source": [
    "df = pd.read_html(str(country_table))[0]"
   ]
  },
  {
   "cell_type": "markdown",
   "metadata": {},
   "source": [
    "# Data Representation"
   ]
  },
  {
   "cell_type": "code",
   "execution_count": 22,
   "metadata": {},
   "outputs": [
    {
     "data": {
      "text/html": [
       "<div>\n",
       "<style scoped>\n",
       "    .dataframe tbody tr th:only-of-type {\n",
       "        vertical-align: middle;\n",
       "    }\n",
       "\n",
       "    .dataframe tbody tr th {\n",
       "        vertical-align: top;\n",
       "    }\n",
       "\n",
       "    .dataframe thead th {\n",
       "        text-align: right;\n",
       "    }\n",
       "</style>\n",
       "<table border=\"1\" class=\"dataframe\">\n",
       "  <thead>\n",
       "    <tr style=\"text-align: right;\">\n",
       "      <th></th>\n",
       "      <th>Country</th>\n",
       "      <th>Average male weight</th>\n",
       "      <th>Average female weight</th>\n",
       "      <th>Sample population /  age range</th>\n",
       "      <th>Method</th>\n",
       "      <th>Year</th>\n",
       "      <th>Ref</th>\n",
       "    </tr>\n",
       "  </thead>\n",
       "  <tbody>\n",
       "    <tr>\n",
       "      <th>0</th>\n",
       "      <td>Afghanistan</td>\n",
       "      <td>69.2 kg (152.6 lb)</td>\n",
       "      <td>62.6 kg (138.0 lb)</td>\n",
       "      <td>18–69</td>\n",
       "      <td>Measured</td>\n",
       "      <td>2018</td>\n",
       "      <td>[12]</td>\n",
       "    </tr>\n",
       "    <tr>\n",
       "      <th>1</th>\n",
       "      <td>Algeria</td>\n",
       "      <td>68.7 kg (151.5 lb)</td>\n",
       "      <td>65.1 kg (143.5 lb)</td>\n",
       "      <td>25–64</td>\n",
       "      <td>Measured</td>\n",
       "      <td>2005</td>\n",
       "      <td>[13]</td>\n",
       "    </tr>\n",
       "    <tr>\n",
       "      <th>2</th>\n",
       "      <td>Armenia</td>\n",
       "      <td>74.6 kg (164.5 lb)</td>\n",
       "      <td>66.4 kg (146.4 lb)</td>\n",
       "      <td>18–69</td>\n",
       "      <td>Measured</td>\n",
       "      <td>2016</td>\n",
       "      <td>[14]</td>\n",
       "    </tr>\n",
       "    <tr>\n",
       "      <th>3</th>\n",
       "      <td>Australia</td>\n",
       "      <td>87.0 kg (191.8 lb)</td>\n",
       "      <td>71.8 kg (158.3 lb)</td>\n",
       "      <td>18+</td>\n",
       "      <td>Measured</td>\n",
       "      <td>2018</td>\n",
       "      <td>[15]</td>\n",
       "    </tr>\n",
       "    <tr>\n",
       "      <th>4</th>\n",
       "      <td>Azerbaijan</td>\n",
       "      <td>72.1 kg (159.0 lb)</td>\n",
       "      <td>65.7 kg (144.8 lb)</td>\n",
       "      <td>16+</td>\n",
       "      <td>Measured</td>\n",
       "      <td>2005</td>\n",
       "      <td>[16]</td>\n",
       "    </tr>\n",
       "    <tr>\n",
       "      <th>5</th>\n",
       "      <td>Bangladesh</td>\n",
       "      <td>55.2 kg (121.7 lb)</td>\n",
       "      <td>49.8 kg (109.8 lb)</td>\n",
       "      <td>25+</td>\n",
       "      <td>Measured</td>\n",
       "      <td>2009–2010</td>\n",
       "      <td>[17]</td>\n",
       "    </tr>\n",
       "    <tr>\n",
       "      <th>6</th>\n",
       "      <td>Belarus</td>\n",
       "      <td>69 kg (152.1 lb)</td>\n",
       "      <td>56 kg (123.5 lb)</td>\n",
       "      <td>18+</td>\n",
       "      <td>Measured</td>\n",
       "      <td>2008</td>\n",
       "      <td>[18]</td>\n",
       "    </tr>\n",
       "    <tr>\n",
       "      <th>7</th>\n",
       "      <td>Belize</td>\n",
       "      <td>74.2 kg (163.6 lb)</td>\n",
       "      <td>70.5 kg (155.4 lb)</td>\n",
       "      <td>20+</td>\n",
       "      <td>Measured</td>\n",
       "      <td>2010</td>\n",
       "      <td>[19]</td>\n",
       "    </tr>\n",
       "    <tr>\n",
       "      <th>8</th>\n",
       "      <td>Benin</td>\n",
       "      <td>63.7 kg (140.4 lb)</td>\n",
       "      <td>60.9 kg (134.3 lb)</td>\n",
       "      <td>18–69</td>\n",
       "      <td>Measured</td>\n",
       "      <td>2015</td>\n",
       "      <td>[20]</td>\n",
       "    </tr>\n",
       "    <tr>\n",
       "      <th>9</th>\n",
       "      <td>Bhutan</td>\n",
       "      <td>63.2 kg (139.3 lb)</td>\n",
       "      <td>57.4 kg (126.5 lb)</td>\n",
       "      <td>18–69</td>\n",
       "      <td>Measured</td>\n",
       "      <td>2014</td>\n",
       "      <td>[21]</td>\n",
       "    </tr>\n",
       "    <tr>\n",
       "      <th>10</th>\n",
       "      <td>Botswana</td>\n",
       "      <td>63.6 kg (140.2 lb)</td>\n",
       "      <td>64.3 kg (141.8 lb)</td>\n",
       "      <td>15–69</td>\n",
       "      <td>Measured</td>\n",
       "      <td>2014</td>\n",
       "      <td>[22]</td>\n",
       "    </tr>\n",
       "  </tbody>\n",
       "</table>\n",
       "</div>"
      ],
      "text/plain": [
       "        Country Average male weight Average female weight  \\\n",
       "0   Afghanistan  69.2 kg (152.6 lb)    62.6 kg (138.0 lb)   \n",
       "1       Algeria  68.7 kg (151.5 lb)    65.1 kg (143.5 lb)   \n",
       "2       Armenia  74.6 kg (164.5 lb)    66.4 kg (146.4 lb)   \n",
       "3     Australia  87.0 kg (191.8 lb)    71.8 kg (158.3 lb)   \n",
       "4    Azerbaijan  72.1 kg (159.0 lb)    65.7 kg (144.8 lb)   \n",
       "5    Bangladesh  55.2 kg (121.7 lb)    49.8 kg (109.8 lb)   \n",
       "6       Belarus    69 kg (152.1 lb)      56 kg (123.5 lb)   \n",
       "7        Belize  74.2 kg (163.6 lb)    70.5 kg (155.4 lb)   \n",
       "8         Benin  63.7 kg (140.4 lb)    60.9 kg (134.3 lb)   \n",
       "9        Bhutan  63.2 kg (139.3 lb)    57.4 kg (126.5 lb)   \n",
       "10     Botswana  63.6 kg (140.2 lb)    64.3 kg (141.8 lb)   \n",
       "\n",
       "   Sample population /  age range    Method       Year   Ref  \n",
       "0                           18–69  Measured       2018  [12]  \n",
       "1                           25–64  Measured       2005  [13]  \n",
       "2                           18–69  Measured       2016  [14]  \n",
       "3                             18+  Measured       2018  [15]  \n",
       "4                             16+  Measured       2005  [16]  \n",
       "5                             25+  Measured  2009–2010  [17]  \n",
       "6                             18+  Measured       2008  [18]  \n",
       "7                             20+  Measured       2010  [19]  \n",
       "8                           18–69  Measured       2015  [20]  \n",
       "9                           18–69  Measured       2014  [21]  \n",
       "10                          15–69  Measured       2014  [22]  "
      ]
     },
     "execution_count": 22,
     "metadata": {},
     "output_type": "execute_result"
    }
   ],
   "source": [
    "df.head(11)"
   ]
  },
  {
   "cell_type": "code",
   "execution_count": 19,
   "metadata": {},
   "outputs": [
    {
     "name": "stdout",
     "output_type": "stream",
     "text": [
      "<class 'pandas.core.frame.DataFrame'>\n",
      "RangeIndex: 52 entries, 0 to 51\n",
      "Data columns (total 7 columns):\n",
      " #   Column                          Non-Null Count  Dtype \n",
      "---  ------                          --------------  ----- \n",
      " 0   Country                         52 non-null     object\n",
      " 1   Average male weight             52 non-null     object\n",
      " 2   Average female weight           52 non-null     object\n",
      " 3   Sample population /  age range  52 non-null     object\n",
      " 4   Method                          52 non-null     object\n",
      " 5   Year                            52 non-null     object\n",
      " 6   Ref                             52 non-null     object\n",
      "dtypes: object(7)\n",
      "memory usage: 3.0+ KB\n"
     ]
    }
   ],
   "source": [
    "df.info()"
   ]
  },
  {
   "cell_type": "code",
   "execution_count": 24,
   "metadata": {},
   "outputs": [
    {
     "data": {
      "text/html": [
       "<div>\n",
       "<style scoped>\n",
       "    .dataframe tbody tr th:only-of-type {\n",
       "        vertical-align: middle;\n",
       "    }\n",
       "\n",
       "    .dataframe tbody tr th {\n",
       "        vertical-align: top;\n",
       "    }\n",
       "\n",
       "    .dataframe thead th {\n",
       "        text-align: right;\n",
       "    }\n",
       "</style>\n",
       "<table border=\"1\" class=\"dataframe\">\n",
       "  <thead>\n",
       "    <tr style=\"text-align: right;\">\n",
       "      <th></th>\n",
       "      <th>Country</th>\n",
       "      <th>Average male weight</th>\n",
       "      <th>Average female weight</th>\n",
       "      <th>Sample population /  age range</th>\n",
       "      <th>Method</th>\n",
       "      <th>Year</th>\n",
       "      <th>Ref</th>\n",
       "    </tr>\n",
       "  </thead>\n",
       "  <tbody>\n",
       "    <tr>\n",
       "      <th>count</th>\n",
       "      <td>52</td>\n",
       "      <td>52</td>\n",
       "      <td>52</td>\n",
       "      <td>52</td>\n",
       "      <td>52</td>\n",
       "      <td>52</td>\n",
       "      <td>52</td>\n",
       "    </tr>\n",
       "    <tr>\n",
       "      <th>unique</th>\n",
       "      <td>52</td>\n",
       "      <td>47</td>\n",
       "      <td>50</td>\n",
       "      <td>15</td>\n",
       "      <td>2</td>\n",
       "      <td>29</td>\n",
       "      <td>52</td>\n",
       "    </tr>\n",
       "    <tr>\n",
       "      <th>top</th>\n",
       "      <td>Afghanistan</td>\n",
       "      <td>84.6 kg (186.5 lb)</td>\n",
       "      <td>59.0 kg (130.1 lb)</td>\n",
       "      <td>18–69</td>\n",
       "      <td>Measured</td>\n",
       "      <td>2018</td>\n",
       "      <td>[12]</td>\n",
       "    </tr>\n",
       "    <tr>\n",
       "      <th>freq</th>\n",
       "      <td>1</td>\n",
       "      <td>2</td>\n",
       "      <td>3</td>\n",
       "      <td>9</td>\n",
       "      <td>49</td>\n",
       "      <td>4</td>\n",
       "      <td>1</td>\n",
       "    </tr>\n",
       "  </tbody>\n",
       "</table>\n",
       "</div>"
      ],
      "text/plain": [
       "            Country Average male weight Average female weight  \\\n",
       "count            52                  52                    52   \n",
       "unique           52                  47                    50   \n",
       "top     Afghanistan  84.6 kg (186.5 lb)    59.0 kg (130.1 lb)   \n",
       "freq              1                   2                     3   \n",
       "\n",
       "       Sample population /  age range    Method  Year   Ref  \n",
       "count                              52        52    52    52  \n",
       "unique                             15         2    29    52  \n",
       "top                             18–69  Measured  2018  [12]  \n",
       "freq                                9        49     4     1  "
      ]
     },
     "execution_count": 24,
     "metadata": {},
     "output_type": "execute_result"
    }
   ],
   "source": [
    "df.describe()"
   ]
  },
  {
   "cell_type": "markdown",
   "metadata": {},
   "source": [
    "# Data wrangling"
   ]
  },
  {
   "cell_type": "markdown",
   "metadata": {},
   "source": [
    "### Drop Ref column"
   ]
  },
  {
   "cell_type": "code",
   "execution_count": 25,
   "metadata": {},
   "outputs": [
    {
     "data": {
      "text/html": [
       "<div>\n",
       "<style scoped>\n",
       "    .dataframe tbody tr th:only-of-type {\n",
       "        vertical-align: middle;\n",
       "    }\n",
       "\n",
       "    .dataframe tbody tr th {\n",
       "        vertical-align: top;\n",
       "    }\n",
       "\n",
       "    .dataframe thead th {\n",
       "        text-align: right;\n",
       "    }\n",
       "</style>\n",
       "<table border=\"1\" class=\"dataframe\">\n",
       "  <thead>\n",
       "    <tr style=\"text-align: right;\">\n",
       "      <th></th>\n",
       "      <th>Country</th>\n",
       "      <th>Average male weight</th>\n",
       "      <th>Average female weight</th>\n",
       "      <th>Sample population /  age range</th>\n",
       "      <th>Method</th>\n",
       "      <th>Year</th>\n",
       "    </tr>\n",
       "  </thead>\n",
       "  <tbody>\n",
       "    <tr>\n",
       "      <th>0</th>\n",
       "      <td>Afghanistan</td>\n",
       "      <td>69.2 kg (152.6 lb)</td>\n",
       "      <td>62.6 kg (138.0 lb)</td>\n",
       "      <td>18–69</td>\n",
       "      <td>Measured</td>\n",
       "      <td>2018</td>\n",
       "    </tr>\n",
       "    <tr>\n",
       "      <th>1</th>\n",
       "      <td>Algeria</td>\n",
       "      <td>68.7 kg (151.5 lb)</td>\n",
       "      <td>65.1 kg (143.5 lb)</td>\n",
       "      <td>25–64</td>\n",
       "      <td>Measured</td>\n",
       "      <td>2005</td>\n",
       "    </tr>\n",
       "    <tr>\n",
       "      <th>2</th>\n",
       "      <td>Armenia</td>\n",
       "      <td>74.6 kg (164.5 lb)</td>\n",
       "      <td>66.4 kg (146.4 lb)</td>\n",
       "      <td>18–69</td>\n",
       "      <td>Measured</td>\n",
       "      <td>2016</td>\n",
       "    </tr>\n",
       "    <tr>\n",
       "      <th>3</th>\n",
       "      <td>Australia</td>\n",
       "      <td>87.0 kg (191.8 lb)</td>\n",
       "      <td>71.8 kg (158.3 lb)</td>\n",
       "      <td>18+</td>\n",
       "      <td>Measured</td>\n",
       "      <td>2018</td>\n",
       "    </tr>\n",
       "    <tr>\n",
       "      <th>4</th>\n",
       "      <td>Azerbaijan</td>\n",
       "      <td>72.1 kg (159.0 lb)</td>\n",
       "      <td>65.7 kg (144.8 lb)</td>\n",
       "      <td>16+</td>\n",
       "      <td>Measured</td>\n",
       "      <td>2005</td>\n",
       "    </tr>\n",
       "  </tbody>\n",
       "</table>\n",
       "</div>"
      ],
      "text/plain": [
       "       Country Average male weight Average female weight  \\\n",
       "0  Afghanistan  69.2 kg (152.6 lb)    62.6 kg (138.0 lb)   \n",
       "1      Algeria  68.7 kg (151.5 lb)    65.1 kg (143.5 lb)   \n",
       "2      Armenia  74.6 kg (164.5 lb)    66.4 kg (146.4 lb)   \n",
       "3    Australia  87.0 kg (191.8 lb)    71.8 kg (158.3 lb)   \n",
       "4   Azerbaijan  72.1 kg (159.0 lb)    65.7 kg (144.8 lb)   \n",
       "\n",
       "  Sample population /  age range    Method  Year  \n",
       "0                          18–69  Measured  2018  \n",
       "1                          25–64  Measured  2005  \n",
       "2                          18–69  Measured  2016  \n",
       "3                            18+  Measured  2018  \n",
       "4                            16+  Measured  2005  "
      ]
     },
     "execution_count": 25,
     "metadata": {},
     "output_type": "execute_result"
    }
   ],
   "source": [
    "df.drop(columns='Ref' , inplace=True)\n",
    "df.head()"
   ]
  },
  {
   "cell_type": "markdown",
   "metadata": {},
   "source": [
    "### Extract Averagae male weight  column to two columns [Avg_male_weight_Kg , Avg_male_weight_lb]"
   ]
  },
  {
   "cell_type": "code",
   "execution_count": 45,
   "metadata": {},
   "outputs": [],
   "source": [
    "# Avg_male_weigth_Kg\n",
    "df['Avg_male_weight_Kg'] = df['Average male weight'].str.extract(r'^(\\d+\\.\\d+)')\n",
    "df['Avg_male_weight_Kg'] = pd.to_numeric(df['Avg_male_weight_Kg'] , errors='coerce')"
   ]
  },
  {
   "cell_type": "code",
   "execution_count": 47,
   "metadata": {},
   "outputs": [],
   "source": [
    "# Avg_male_weigth_lb\n",
    "df['Avg_male_weight_lb'] = df['Average male weight'].str.extract(r'\\((\\d+\\.\\d+)\\s*lb\\)')\n",
    "df['Avg_male_weight_lb'] = pd.to_numeric(df['Avg_male_weight_lb'] , errors='coerce')"
   ]
  },
  {
   "cell_type": "markdown",
   "metadata": {},
   "source": [
    "### Extract Averagae female weight  column to two columns [Avg_female_weight_Kg , Avg_female_weight_lb]"
   ]
  },
  {
   "cell_type": "code",
   "execution_count": 48,
   "metadata": {},
   "outputs": [],
   "source": [
    "# Avg_female_weight_kg\n",
    "df['Avg_female_weight_Kg'] = df['Average female weight'].str.extract(r'^(\\d+\\.\\d+)')\n",
    "df['Avg_female_weight_Kg'] = pd.to_numeric(df['Avg_female_weight_Kg'] , errors='coerce')"
   ]
  },
  {
   "cell_type": "code",
   "execution_count": 49,
   "metadata": {},
   "outputs": [],
   "source": [
    "# Avg_female_weight_lb\n",
    "df['Avg_female_weight_lb'] = df['Average female weight'].str.extract(r'\\((\\d+\\.\\d+)\\s*lb\\)')\n",
    "df['Avg_female_weight_lb'] = pd.to_numeric(df['Avg_female_weight_lb'] , errors='coerce')"
   ]
  },
  {
   "cell_type": "markdown",
   "metadata": {},
   "source": [
    "### Drop Average male weight and Average female weight columns"
   ]
  },
  {
   "cell_type": "code",
   "execution_count": 51,
   "metadata": {},
   "outputs": [],
   "source": [
    "df.drop(columns=['Average male weight' , 'Average female weight'] , inplace=True)"
   ]
  },
  {
   "cell_type": "code",
   "execution_count": 53,
   "metadata": {},
   "outputs": [
    {
     "data": {
      "text/html": [
       "<div>\n",
       "<style scoped>\n",
       "    .dataframe tbody tr th:only-of-type {\n",
       "        vertical-align: middle;\n",
       "    }\n",
       "\n",
       "    .dataframe tbody tr th {\n",
       "        vertical-align: top;\n",
       "    }\n",
       "\n",
       "    .dataframe thead th {\n",
       "        text-align: right;\n",
       "    }\n",
       "</style>\n",
       "<table border=\"1\" class=\"dataframe\">\n",
       "  <thead>\n",
       "    <tr style=\"text-align: right;\">\n",
       "      <th></th>\n",
       "      <th>Country</th>\n",
       "      <th>Sample population /  age range</th>\n",
       "      <th>Method</th>\n",
       "      <th>Year</th>\n",
       "      <th>Avg_male_weight_Kg</th>\n",
       "      <th>Avg_male_weight_lb</th>\n",
       "      <th>Avg_female_weight_Kg</th>\n",
       "      <th>Avg_female_weight_lb</th>\n",
       "    </tr>\n",
       "  </thead>\n",
       "  <tbody>\n",
       "    <tr>\n",
       "      <th>0</th>\n",
       "      <td>Afghanistan</td>\n",
       "      <td>18–69</td>\n",
       "      <td>Measured</td>\n",
       "      <td>2018</td>\n",
       "      <td>69.2</td>\n",
       "      <td>152.6</td>\n",
       "      <td>62.6</td>\n",
       "      <td>138.0</td>\n",
       "    </tr>\n",
       "    <tr>\n",
       "      <th>1</th>\n",
       "      <td>Algeria</td>\n",
       "      <td>25–64</td>\n",
       "      <td>Measured</td>\n",
       "      <td>2005</td>\n",
       "      <td>68.7</td>\n",
       "      <td>151.5</td>\n",
       "      <td>65.1</td>\n",
       "      <td>143.5</td>\n",
       "    </tr>\n",
       "    <tr>\n",
       "      <th>2</th>\n",
       "      <td>Armenia</td>\n",
       "      <td>18–69</td>\n",
       "      <td>Measured</td>\n",
       "      <td>2016</td>\n",
       "      <td>74.6</td>\n",
       "      <td>164.5</td>\n",
       "      <td>66.4</td>\n",
       "      <td>146.4</td>\n",
       "    </tr>\n",
       "    <tr>\n",
       "      <th>3</th>\n",
       "      <td>Australia</td>\n",
       "      <td>18+</td>\n",
       "      <td>Measured</td>\n",
       "      <td>2018</td>\n",
       "      <td>87.0</td>\n",
       "      <td>191.8</td>\n",
       "      <td>71.8</td>\n",
       "      <td>158.3</td>\n",
       "    </tr>\n",
       "    <tr>\n",
       "      <th>4</th>\n",
       "      <td>Azerbaijan</td>\n",
       "      <td>16+</td>\n",
       "      <td>Measured</td>\n",
       "      <td>2005</td>\n",
       "      <td>72.1</td>\n",
       "      <td>159.0</td>\n",
       "      <td>65.7</td>\n",
       "      <td>144.8</td>\n",
       "    </tr>\n",
       "  </tbody>\n",
       "</table>\n",
       "</div>"
      ],
      "text/plain": [
       "       Country Sample population /  age range    Method  Year  \\\n",
       "0  Afghanistan                          18–69  Measured  2018   \n",
       "1      Algeria                          25–64  Measured  2005   \n",
       "2      Armenia                          18–69  Measured  2016   \n",
       "3    Australia                            18+  Measured  2018   \n",
       "4   Azerbaijan                            16+  Measured  2005   \n",
       "\n",
       "   Avg_male_weight_Kg  Avg_male_weight_lb  Avg_female_weight_Kg  \\\n",
       "0                69.2               152.6                  62.6   \n",
       "1                68.7               151.5                  65.1   \n",
       "2                74.6               164.5                  66.4   \n",
       "3                87.0               191.8                  71.8   \n",
       "4                72.1               159.0                  65.7   \n",
       "\n",
       "   Avg_female_weight_lb  \n",
       "0                 138.0  \n",
       "1                 143.5  \n",
       "2                 146.4  \n",
       "3                 158.3  \n",
       "4                 144.8  "
      ]
     },
     "execution_count": 53,
     "metadata": {},
     "output_type": "execute_result"
    }
   ],
   "source": [
    "df.head()"
   ]
  },
  {
   "cell_type": "markdown",
   "metadata": {},
   "source": [
    "### Rename Smaple population/age range to S_age_range  "
   ]
  },
  {
   "cell_type": "code",
   "execution_count": 59,
   "metadata": {},
   "outputs": [],
   "source": [
    "df.rename(columns={'Sample population /  age range' : 'Age_range'} , inplace=True)"
   ]
  },
  {
   "cell_type": "code",
   "execution_count": 60,
   "metadata": {},
   "outputs": [
    {
     "data": {
      "text/html": [
       "<div>\n",
       "<style scoped>\n",
       "    .dataframe tbody tr th:only-of-type {\n",
       "        vertical-align: middle;\n",
       "    }\n",
       "\n",
       "    .dataframe tbody tr th {\n",
       "        vertical-align: top;\n",
       "    }\n",
       "\n",
       "    .dataframe thead th {\n",
       "        text-align: right;\n",
       "    }\n",
       "</style>\n",
       "<table border=\"1\" class=\"dataframe\">\n",
       "  <thead>\n",
       "    <tr style=\"text-align: right;\">\n",
       "      <th></th>\n",
       "      <th>Country</th>\n",
       "      <th>Age_range</th>\n",
       "      <th>Method</th>\n",
       "      <th>Year</th>\n",
       "      <th>Avg_male_weight_Kg</th>\n",
       "      <th>Avg_male_weight_lb</th>\n",
       "      <th>Avg_female_weight_Kg</th>\n",
       "      <th>Avg_female_weight_lb</th>\n",
       "    </tr>\n",
       "  </thead>\n",
       "  <tbody>\n",
       "    <tr>\n",
       "      <th>0</th>\n",
       "      <td>Afghanistan</td>\n",
       "      <td>18–69</td>\n",
       "      <td>Measured</td>\n",
       "      <td>2018</td>\n",
       "      <td>69.2</td>\n",
       "      <td>152.6</td>\n",
       "      <td>62.6</td>\n",
       "      <td>138.0</td>\n",
       "    </tr>\n",
       "    <tr>\n",
       "      <th>1</th>\n",
       "      <td>Algeria</td>\n",
       "      <td>25–64</td>\n",
       "      <td>Measured</td>\n",
       "      <td>2005</td>\n",
       "      <td>68.7</td>\n",
       "      <td>151.5</td>\n",
       "      <td>65.1</td>\n",
       "      <td>143.5</td>\n",
       "    </tr>\n",
       "    <tr>\n",
       "      <th>2</th>\n",
       "      <td>Armenia</td>\n",
       "      <td>18–69</td>\n",
       "      <td>Measured</td>\n",
       "      <td>2016</td>\n",
       "      <td>74.6</td>\n",
       "      <td>164.5</td>\n",
       "      <td>66.4</td>\n",
       "      <td>146.4</td>\n",
       "    </tr>\n",
       "    <tr>\n",
       "      <th>3</th>\n",
       "      <td>Australia</td>\n",
       "      <td>18+</td>\n",
       "      <td>Measured</td>\n",
       "      <td>2018</td>\n",
       "      <td>87.0</td>\n",
       "      <td>191.8</td>\n",
       "      <td>71.8</td>\n",
       "      <td>158.3</td>\n",
       "    </tr>\n",
       "    <tr>\n",
       "      <th>4</th>\n",
       "      <td>Azerbaijan</td>\n",
       "      <td>16+</td>\n",
       "      <td>Measured</td>\n",
       "      <td>2005</td>\n",
       "      <td>72.1</td>\n",
       "      <td>159.0</td>\n",
       "      <td>65.7</td>\n",
       "      <td>144.8</td>\n",
       "    </tr>\n",
       "  </tbody>\n",
       "</table>\n",
       "</div>"
      ],
      "text/plain": [
       "       Country Age_range    Method  Year  Avg_male_weight_Kg  \\\n",
       "0  Afghanistan     18–69  Measured  2018                69.2   \n",
       "1      Algeria     25–64  Measured  2005                68.7   \n",
       "2      Armenia     18–69  Measured  2016                74.6   \n",
       "3    Australia       18+  Measured  2018                87.0   \n",
       "4   Azerbaijan       16+  Measured  2005                72.1   \n",
       "\n",
       "   Avg_male_weight_lb  Avg_female_weight_Kg  Avg_female_weight_lb  \n",
       "0               152.6                  62.6                 138.0  \n",
       "1               151.5                  65.1                 143.5  \n",
       "2               164.5                  66.4                 146.4  \n",
       "3               191.8                  71.8                 158.3  \n",
       "4               159.0                  65.7                 144.8  "
      ]
     },
     "execution_count": 60,
     "metadata": {},
     "output_type": "execute_result"
    }
   ],
   "source": [
    "df.head()"
   ]
  },
  {
   "cell_type": "markdown",
   "metadata": {},
   "source": [
    "### Make new column Avg_age "
   ]
  },
  {
   "cell_type": "code",
   "execution_count": 64,
   "metadata": {},
   "outputs": [],
   "source": [
    "# Function extract_avg() \n",
    "def extract_avg(value) : \n",
    "    if '-' in value : \n",
    "        n1 , n2 = map(int, value.split('-'))\n",
    "        return (n1 + n2)/2 # return avg \n",
    "    if '+' in value : \n",
    "        return int(value.replace('+' , ''))\n",
    "    return value"
   ]
  },
  {
   "cell_type": "code",
   "execution_count": 67,
   "metadata": {},
   "outputs": [],
   "source": [
    "# new column Avg_age\n",
    "df['Avg_age'] = df['Age_range'].apply(extract_avg)"
   ]
  },
  {
   "cell_type": "code",
   "execution_count": 68,
   "metadata": {},
   "outputs": [
    {
     "data": {
      "text/html": [
       "<div>\n",
       "<style scoped>\n",
       "    .dataframe tbody tr th:only-of-type {\n",
       "        vertical-align: middle;\n",
       "    }\n",
       "\n",
       "    .dataframe tbody tr th {\n",
       "        vertical-align: top;\n",
       "    }\n",
       "\n",
       "    .dataframe thead th {\n",
       "        text-align: right;\n",
       "    }\n",
       "</style>\n",
       "<table border=\"1\" class=\"dataframe\">\n",
       "  <thead>\n",
       "    <tr style=\"text-align: right;\">\n",
       "      <th></th>\n",
       "      <th>Country</th>\n",
       "      <th>Age_range</th>\n",
       "      <th>Method</th>\n",
       "      <th>Year</th>\n",
       "      <th>Avg_male_weight_Kg</th>\n",
       "      <th>Avg_male_weight_lb</th>\n",
       "      <th>Avg_female_weight_Kg</th>\n",
       "      <th>Avg_female_weight_lb</th>\n",
       "      <th>Avg_age</th>\n",
       "    </tr>\n",
       "  </thead>\n",
       "  <tbody>\n",
       "    <tr>\n",
       "      <th>0</th>\n",
       "      <td>Afghanistan</td>\n",
       "      <td>18–69</td>\n",
       "      <td>Measured</td>\n",
       "      <td>2018</td>\n",
       "      <td>69.2</td>\n",
       "      <td>152.6</td>\n",
       "      <td>62.6</td>\n",
       "      <td>138.0</td>\n",
       "      <td>43.5</td>\n",
       "    </tr>\n",
       "    <tr>\n",
       "      <th>1</th>\n",
       "      <td>Algeria</td>\n",
       "      <td>25–64</td>\n",
       "      <td>Measured</td>\n",
       "      <td>2005</td>\n",
       "      <td>68.7</td>\n",
       "      <td>151.5</td>\n",
       "      <td>65.1</td>\n",
       "      <td>143.5</td>\n",
       "      <td>44.5</td>\n",
       "    </tr>\n",
       "    <tr>\n",
       "      <th>2</th>\n",
       "      <td>Armenia</td>\n",
       "      <td>18–69</td>\n",
       "      <td>Measured</td>\n",
       "      <td>2016</td>\n",
       "      <td>74.6</td>\n",
       "      <td>164.5</td>\n",
       "      <td>66.4</td>\n",
       "      <td>146.4</td>\n",
       "      <td>43.5</td>\n",
       "    </tr>\n",
       "    <tr>\n",
       "      <th>3</th>\n",
       "      <td>Australia</td>\n",
       "      <td>18+</td>\n",
       "      <td>Measured</td>\n",
       "      <td>2018</td>\n",
       "      <td>87.0</td>\n",
       "      <td>191.8</td>\n",
       "      <td>71.8</td>\n",
       "      <td>158.3</td>\n",
       "      <td>18</td>\n",
       "    </tr>\n",
       "    <tr>\n",
       "      <th>4</th>\n",
       "      <td>Azerbaijan</td>\n",
       "      <td>16+</td>\n",
       "      <td>Measured</td>\n",
       "      <td>2005</td>\n",
       "      <td>72.1</td>\n",
       "      <td>159.0</td>\n",
       "      <td>65.7</td>\n",
       "      <td>144.8</td>\n",
       "      <td>16</td>\n",
       "    </tr>\n",
       "  </tbody>\n",
       "</table>\n",
       "</div>"
      ],
      "text/plain": [
       "       Country Age_range    Method  Year  Avg_male_weight_Kg  \\\n",
       "0  Afghanistan     18–69  Measured  2018                69.2   \n",
       "1      Algeria     25–64  Measured  2005                68.7   \n",
       "2      Armenia     18–69  Measured  2016                74.6   \n",
       "3    Australia       18+  Measured  2018                87.0   \n",
       "4   Azerbaijan       16+  Measured  2005                72.1   \n",
       "\n",
       "   Avg_male_weight_lb  Avg_female_weight_Kg  Avg_female_weight_lb Avg_age  \n",
       "0               152.6                  62.6                 138.0    43.5  \n",
       "1               151.5                  65.1                 143.5    44.5  \n",
       "2               164.5                  66.4                 146.4    43.5  \n",
       "3               191.8                  71.8                 158.3      18  \n",
       "4               159.0                  65.7                 144.8      16  "
      ]
     },
     "execution_count": 68,
     "metadata": {},
     "output_type": "execute_result"
    }
   ],
   "source": [
    "df.head()"
   ]
  },
  {
   "cell_type": "markdown",
   "metadata": {},
   "source": [
    "### Check missing value"
   ]
  },
  {
   "cell_type": "code",
   "execution_count": 69,
   "metadata": {},
   "outputs": [
    {
     "data": {
      "text/plain": [
       "Country                 0\n",
       "Age_range               0\n",
       "Method                  0\n",
       "Year                    0\n",
       "Avg_male_weight_Kg      1\n",
       "Avg_male_weight_lb      2\n",
       "Avg_female_weight_Kg    1\n",
       "Avg_female_weight_lb    2\n",
       "Avg_age                 0\n",
       "dtype: int64"
      ]
     },
     "execution_count": 69,
     "metadata": {},
     "output_type": "execute_result"
    }
   ],
   "source": [
    "df.isnull().sum()"
   ]
  },
  {
   "cell_type": "markdown",
   "metadata": {},
   "source": [
    "#### Replace missing values"
   ]
  },
  {
   "cell_type": "code",
   "execution_count": 92,
   "metadata": {},
   "outputs": [],
   "source": [
    "  \n",
    "df.fillna(df.iloc[: , 4:8].mean() , inplace=True)"
   ]
  },
  {
   "cell_type": "code",
   "execution_count": 93,
   "metadata": {},
   "outputs": [
    {
     "data": {
      "text/plain": [
       "Country                 0\n",
       "Age_range               0\n",
       "Method                  0\n",
       "Year                    0\n",
       "Avg_male_weight_Kg      0\n",
       "Avg_male_weight_lb      0\n",
       "Avg_female_weight_Kg    0\n",
       "Avg_female_weight_lb    0\n",
       "Avg_age                 0\n",
       "dtype: int64"
      ]
     },
     "execution_count": 93,
     "metadata": {},
     "output_type": "execute_result"
    }
   ],
   "source": [
    "df.isnull().sum()"
   ]
  },
  {
   "cell_type": "markdown",
   "metadata": {},
   "source": [
    "### Check duplicated values "
   ]
  },
  {
   "cell_type": "code",
   "execution_count": 31,
   "metadata": {},
   "outputs": [
    {
     "data": {
      "text/plain": [
       "0"
      ]
     },
     "execution_count": 31,
     "metadata": {},
     "output_type": "execute_result"
    }
   ],
   "source": [
    "df.duplicated().sum()"
   ]
  },
  {
   "cell_type": "markdown",
   "metadata": {},
   "source": [
    "# Exploarity data analysis EDA"
   ]
  },
  {
   "cell_type": "code",
   "execution_count": 94,
   "metadata": {},
   "outputs": [
    {
     "data": {
      "text/html": [
       "<div>\n",
       "<style scoped>\n",
       "    .dataframe tbody tr th:only-of-type {\n",
       "        vertical-align: middle;\n",
       "    }\n",
       "\n",
       "    .dataframe tbody tr th {\n",
       "        vertical-align: top;\n",
       "    }\n",
       "\n",
       "    .dataframe thead th {\n",
       "        text-align: right;\n",
       "    }\n",
       "</style>\n",
       "<table border=\"1\" class=\"dataframe\">\n",
       "  <thead>\n",
       "    <tr style=\"text-align: right;\">\n",
       "      <th></th>\n",
       "      <th>Country</th>\n",
       "      <th>Age_range</th>\n",
       "      <th>Method</th>\n",
       "      <th>Year</th>\n",
       "      <th>Avg_male_weight_Kg</th>\n",
       "      <th>Avg_male_weight_lb</th>\n",
       "      <th>Avg_female_weight_Kg</th>\n",
       "      <th>Avg_female_weight_lb</th>\n",
       "      <th>Avg_age</th>\n",
       "    </tr>\n",
       "  </thead>\n",
       "  <tbody>\n",
       "    <tr>\n",
       "      <th>0</th>\n",
       "      <td>Afghanistan</td>\n",
       "      <td>18–69</td>\n",
       "      <td>Measured</td>\n",
       "      <td>2018</td>\n",
       "      <td>69.2</td>\n",
       "      <td>152.6</td>\n",
       "      <td>62.6</td>\n",
       "      <td>138.0</td>\n",
       "      <td>43.5</td>\n",
       "    </tr>\n",
       "    <tr>\n",
       "      <th>1</th>\n",
       "      <td>Algeria</td>\n",
       "      <td>25–64</td>\n",
       "      <td>Measured</td>\n",
       "      <td>2005</td>\n",
       "      <td>68.7</td>\n",
       "      <td>151.5</td>\n",
       "      <td>65.1</td>\n",
       "      <td>143.5</td>\n",
       "      <td>44.5</td>\n",
       "    </tr>\n",
       "    <tr>\n",
       "      <th>2</th>\n",
       "      <td>Armenia</td>\n",
       "      <td>18–69</td>\n",
       "      <td>Measured</td>\n",
       "      <td>2016</td>\n",
       "      <td>74.6</td>\n",
       "      <td>164.5</td>\n",
       "      <td>66.4</td>\n",
       "      <td>146.4</td>\n",
       "      <td>43.5</td>\n",
       "    </tr>\n",
       "    <tr>\n",
       "      <th>3</th>\n",
       "      <td>Australia</td>\n",
       "      <td>18+</td>\n",
       "      <td>Measured</td>\n",
       "      <td>2018</td>\n",
       "      <td>87.0</td>\n",
       "      <td>191.8</td>\n",
       "      <td>71.8</td>\n",
       "      <td>158.3</td>\n",
       "      <td>18</td>\n",
       "    </tr>\n",
       "    <tr>\n",
       "      <th>4</th>\n",
       "      <td>Azerbaijan</td>\n",
       "      <td>16+</td>\n",
       "      <td>Measured</td>\n",
       "      <td>2005</td>\n",
       "      <td>72.1</td>\n",
       "      <td>159.0</td>\n",
       "      <td>65.7</td>\n",
       "      <td>144.8</td>\n",
       "      <td>16</td>\n",
       "    </tr>\n",
       "  </tbody>\n",
       "</table>\n",
       "</div>"
      ],
      "text/plain": [
       "       Country Age_range    Method  Year  Avg_male_weight_Kg  \\\n",
       "0  Afghanistan     18–69  Measured  2018                69.2   \n",
       "1      Algeria     25–64  Measured  2005                68.7   \n",
       "2      Armenia     18–69  Measured  2016                74.6   \n",
       "3    Australia       18+  Measured  2018                87.0   \n",
       "4   Azerbaijan       16+  Measured  2005                72.1   \n",
       "\n",
       "   Avg_male_weight_lb  Avg_female_weight_Kg  Avg_female_weight_lb Avg_age  \n",
       "0               152.6                  62.6                 138.0    43.5  \n",
       "1               151.5                  65.1                 143.5    44.5  \n",
       "2               164.5                  66.4                 146.4    43.5  \n",
       "3               191.8                  71.8                 158.3      18  \n",
       "4               159.0                  65.7                 144.8      16  "
      ]
     },
     "execution_count": 94,
     "metadata": {},
     "output_type": "execute_result"
    }
   ],
   "source": [
    "df.head()"
   ]
  },
  {
   "cell_type": "code",
   "execution_count": 101,
   "metadata": {},
   "outputs": [
    {
     "data": {
      "text/plain": [
       "Method\n",
       "Measured         49\n",
       "Self-reported     3\n",
       "Name: count, dtype: int64"
      ]
     },
     "execution_count": 101,
     "metadata": {},
     "output_type": "execute_result"
    }
   ],
   "source": [
    "df['Method'].value_counts()"
   ]
  },
  {
   "cell_type": "code",
   "execution_count": null,
   "metadata": {},
   "outputs": [
    {
     "data": {
      "image/png": "[encoded data removed]",
      "text/plain": [
       "<Figure size 300x300 with 1 Axes>"
      ]
     },
     "metadata": {},
     "output_type": "display_data"
    }
   ],
   "source": [
    "plt.figure(figsize=(3,3))\n",
    "sns.countplot(x =df['Method'])\n",
    "sns\n",
    "plt.show()"
   ]
  },
  {
   "cell_type": "code",
   "execution_count": 147,
   "metadata": {},
   "outputs": [
    {
     "data": {
      "text/plain": [
       "count    52.000000\n",
       "mean     74.873333\n",
       "std       9.894936\n",
       "min      55.200000\n",
       "25%      65.850000\n",
       "50%      75.100000\n",
       "75%      84.100000\n",
       "max      99.400000\n",
       "Name: Avg_male_weight_Kg, dtype: float64"
      ]
     },
     "execution_count": 147,
     "metadata": {},
     "output_type": "execute_result"
    }
   ],
   "source": [
    "df['Avg_male_weight_Kg'].describe()"
   ]
  },
  {
   "cell_type": "code",
   "execution_count": 164,
   "metadata": {},
   "outputs": [
    {
     "data": {
      "image/png": "[encoded data removed]",
      "text/plain": [
       "<Figure size 800x400 with 2 Axes>"
      ]
     },
     "metadata": {},
     "output_type": "display_data"
    }
   ],
   "source": [
    "plt.figure(figsize=(8,4))\n",
    "plt.subplot(1,2,1)\n",
    "sns.histplot(df['Avg_female_weight_Kg'], kde=False)\n",
    "plt.subplot(1,2,2)\n",
    "sns.kdeplot(df['Avg_female_weight_Kg'])\n",
    "plt.tight_layout(pad=4)\n",
    "plt.show()"
   ]
  },
  {
   "cell_type": "code",
   "execution_count": 153,
   "metadata": {},
   "outputs": [
    {
     "data": {
      "text/plain": [
       "<seaborn.axisgrid.FacetGrid at 0x1d37f0573e0>"
      ]
     },
     "execution_count": 153,
     "metadata": {},
     "output_type": "execute_result"
    },
    {
     "data": {
      "image/png": "[encoded data removed]",
      "text/plain": [
       "<Figure size 560x400 with 1 Axes>"
      ]
     },
     "metadata": {},
     "output_type": "display_data"
    }
   ],
   "source": [
    "sns.displot(df['Avg_female_weight_Kg'] , kind= 'kde' , height=4 , aspect=1.4)"
   ]
  },
  {
   "cell_type": "code",
   "execution_count": null,
   "metadata": {},
   "outputs": [],
   "source": [
    "#"
   ]
  }
 ],
 "metadata": {
  "kernelspec": {
   "display_name": "base",
   "language": "python",
   "name": "python3"
  },
  "language_info": {
   "codemirror_mode": {
    "name": "ipython",
    "version": 3
   },
   "file_extension": ".py",
   "mimetype": "text/x-python",
   "name": "python",
   "nbconvert_exporter": "python",
   "pygments_lexer": "ipython3",
   "version": "3.12.4"
  }
 },
 "nbformat": 4,
 "nbformat_minor": 2
}
